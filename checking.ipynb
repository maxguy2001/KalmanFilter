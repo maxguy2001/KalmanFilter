{
 "cells": [
  {
   "cell_type": "code",
   "execution_count": null,
   "metadata": {},
   "outputs": [],
   "source": [
    "import numpy as np\n",
    "import matplotlib.pyplot as plt\n",
    "import spoof_data as spoof\n",
    "import metrics as metric\n",
    "import kalman_filter as kf"
   ]
  },
  {
   "cell_type": "code",
   "execution_count": null,
   "metadata": {},
   "outputs": [],
   "source": [
    "spoofer_ = spoof.SpoofData()"
   ]
  },
  {
   "cell_type": "code",
   "execution_count": null,
   "metadata": {},
   "outputs": [],
   "source": [
    "data, noisy_data, timestamps = spoofer_.run7()\n",
    "filter_ = kf.KalmanFilter(0.0)\n",
    "filter_.propagate(0)\n",
    "#print(data[0], filter_.new_state_estimate)\n",
    "filter_.measurementAndUpdate(data[0])\n"
   ]
  },
  {
   "cell_type": "code",
   "execution_count": null,
   "metadata": {},
   "outputs": [],
   "source": [
    "data, noisy_data, timestamps = spoofer_.run1()\n",
    "filter_ = kf.KalmanFilter(0)\n",
    "estimates = []\n",
    "\n",
    "for i in range(len(timestamps)):\n",
    "    estimate = filter_.estimate(timestamps[i],  noisy_data[i])\n",
    "    estimates.append(estimate)\n"
   ]
  },
  {
   "cell_type": "code",
   "execution_count": null,
   "metadata": {},
   "outputs": [],
   "source": [
    "est_accs = []\n",
    "real_accs = []\n",
    "for i in range(len(estimates)):\n",
    "  est_accs.append(estimates[i][0])\n",
    "  real_accs.append(data[i][0])\n"
   ]
  },
  {
   "cell_type": "code",
   "execution_count": null,
   "metadata": {},
   "outputs": [],
   "source": [
    "plt.plot(timestamps[0:50], est_accs[0:50], label=\"estimates\")\n",
    "plt.plot(timestamps[0:50], real_accs[0:50], label=\"reals\")\n",
    "plt.xlabel(\"time\")\n",
    "plt.ylabel(\"acceleration\")\n",
    "plt.legend()\n",
    "plt.show()"
   ]
  },
  {
   "cell_type": "code",
   "execution_count": null,
   "metadata": {},
   "outputs": [],
   "source": [
    "x = np.array([[1.0020009999999997, 0.0, 0.0],[0.0, 1.0020009999999997, 0.0],[0.0, 0.0, 1.0020009999999997]]) \n",
    "y = np.array([[1.0030030009999995, 0.0, 0.0], [0.0, 1.0030030009999995, 0.0], [0.0, 0.0, 1.0030030009999995]])\n",
    "x@np.linalg.inv(y)"
   ]
  },
  {
   "cell_type": "code",
   "execution_count": null,
   "metadata": {},
   "outputs": [],
   "source": []
  },
  {
   "cell_type": "code",
   "execution_count": null,
   "metadata": {},
   "outputs": [],
   "source": []
  }
 ],
 "metadata": {
  "kernelspec": {
   "display_name": "base",
   "language": "python",
   "name": "python3"
  },
  "language_info": {
   "codemirror_mode": {
    "name": "ipython",
    "version": 3
   },
   "file_extension": ".py",
   "mimetype": "text/x-python",
   "name": "python",
   "nbconvert_exporter": "python",
   "pygments_lexer": "ipython3",
   "version": "3.8.8"
  },
  "orig_nbformat": 4,
  "vscode": {
   "interpreter": {
    "hash": "6771b146f1b82fb02de5590ee70692a11d0849fffb790087fa62825bdf33ab0d"
   }
  }
 },
 "nbformat": 4,
 "nbformat_minor": 2
}
