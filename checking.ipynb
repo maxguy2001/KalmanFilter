{
 "cells": [
  {
   "cell_type": "code",
   "execution_count": 1,
   "metadata": {},
   "outputs": [],
   "source": [
    "import numpy as np\n",
    "import matplotlib.pyplot as plt\n",
    "import spoof_data as spoof\n",
    "import metrics as metric\n",
    "import kalman_filter as kf"
   ]
  },
  {
   "cell_type": "code",
   "execution_count": 2,
   "metadata": {},
   "outputs": [],
   "source": [
    "spoofer_ = spoof.SpoofData()\n",
    "data, noisy_data, timestamps = spoofer_.run1()"
   ]
  },
  {
   "cell_type": "code",
   "execution_count": 3,
   "metadata": {},
   "outputs": [],
   "source": [
    "state_cov_mat = (np.ones([3, 3]) - np.eye(3)) * -5000\n",
    "meas_cov_mat = (np.ones([3, 3]) - np.eye(3)) * 5000\n",
    "sys_noise_cov_mat = (np.ones([3, 3]) - np.eye(3)) * 5000\n",
    "\n",
    "filter_ = kf.KalmanFilter(0, state_cov_mat, meas_cov_mat, sys_noise_cov_mat)\n",
    "estimates = []\n",
    "\n",
    "for i in range(len(timestamps)):\n",
    "    estimate = filter_.estimate(timestamps[i],  noisy_data[i])\n",
    "    estimates.append(estimate)\n"
   ]
  },
  {
   "cell_type": "code",
   "execution_count": 4,
   "metadata": {},
   "outputs": [],
   "source": [
    "est_accs = []\n",
    "real_accs = []\n",
    "for i in range(len(estimates)):\n",
    "  est_accs.append(estimates[i][0])\n",
    "  real_accs.append(data[i][0])\n"
   ]
  },
  {
   "cell_type": "code",
   "execution_count": 5,
   "metadata": {},
   "outputs": [
    {
     "data": {
      "image/png": "[encoded data removed]",
      "text/plain": [
       "<Figure size 432x288 with 1 Axes>"
      ]
     },
     "metadata": {
      "needs_background": "light"
     },
     "output_type": "display_data"
    }
   ],
   "source": [
    "plt.plot(timestamps[0:50], est_accs[0:50], label=\"estimates\")\n",
    "plt.plot(timestamps[0:50], real_accs[0:50], label=\"reals\")\n",
    "plt.xlabel(\"time\")\n",
    "plt.ylabel(\"acceleration\")\n",
    "plt.legend()\n",
    "plt.show()"
   ]
  },
  {
   "cell_type": "code",
   "execution_count": null,
   "metadata": {},
   "outputs": [],
   "source": []
  },
  {
   "cell_type": "code",
   "execution_count": null,
   "metadata": {},
   "outputs": [],
   "source": []
  }
 ],
 "metadata": {
  "kernelspec": {
   "display_name": "base",
   "language": "python",
   "name": "python3"
  },
  "language_info": {
   "codemirror_mode": {
    "name": "ipython",
    "version": 3
   },
   "file_extension": ".py",
   "mimetype": "text/x-python",
   "name": "python",
   "nbconvert_exporter": "python",
   "pygments_lexer": "ipython3",
   "version": "3.8.8"
  },
  "orig_nbformat": 4,
  "vscode": {
   "interpreter": {
    "hash": "6771b146f1b82fb02de5590ee70692a11d0849fffb790087fa62825bdf33ab0d"
   }
  }
 },
 "nbformat": 4,
 "nbformat_minor": 2
}
